{
  "nbformat": 4,
  "nbformat_minor": 0,
  "metadata": {
    "colab": {
      "provenance": []
    },
    "kernelspec": {
      "name": "python3",
      "display_name": "Python 3"
    },
    "language_info": {
      "name": "python"
    }
  },
  "cells": [
    {
      "cell_type": "markdown",
      "source": [
        "##CHATBOTS with LangGraph"
      ],
      "metadata": {
        "id": "v-Mh98MPtALK"
      }
    },
    {
      "cell_type": "code",
      "execution_count": 2,
      "metadata": {
        "colab": {
          "base_uri": "https://localhost:8080/"
        },
        "id": "FPOm4crHs7jm",
        "outputId": "9cb33153-c7e7-46a9-fe25-9e592579b665"
      },
      "outputs": [
        {
          "output_type": "stream",
          "name": "stdout",
          "text": [
            "Collecting langgraph\n",
            "  Downloading langgraph-0.2.56-py3-none-any.whl.metadata (15 kB)\n",
            "Requirement already satisfied: langsmith in /usr/local/lib/python3.10/dist-packages (0.1.147)\n",
            "Requirement already satisfied: langchain-core!=0.3.0,!=0.3.1,!=0.3.10,!=0.3.11,!=0.3.12,!=0.3.13,!=0.3.14,!=0.3.2,!=0.3.3,!=0.3.4,!=0.3.5,!=0.3.6,!=0.3.7,!=0.3.8,!=0.3.9,<0.4.0,>=0.2.43 in /usr/local/lib/python3.10/dist-packages (from langgraph) (0.3.21)\n",
            "Collecting langgraph-checkpoint<3.0.0,>=2.0.4 (from langgraph)\n",
            "  Downloading langgraph_checkpoint-2.0.8-py3-none-any.whl.metadata (4.6 kB)\n",
            "Collecting langgraph-sdk<0.2.0,>=0.1.42 (from langgraph)\n",
            "  Downloading langgraph_sdk-0.1.43-py3-none-any.whl.metadata (1.8 kB)\n",
            "Requirement already satisfied: httpx<1,>=0.23.0 in /usr/local/lib/python3.10/dist-packages (from langsmith) (0.28.0)\n",
            "Requirement already satisfied: orjson<4.0.0,>=3.9.14 in /usr/local/lib/python3.10/dist-packages (from langsmith) (3.10.12)\n",
            "Requirement already satisfied: pydantic<3,>=1 in /usr/local/lib/python3.10/dist-packages (from langsmith) (2.10.2)\n",
            "Requirement already satisfied: requests<3,>=2 in /usr/local/lib/python3.10/dist-packages (from langsmith) (2.32.3)\n",
            "Requirement already satisfied: requests-toolbelt<2.0.0,>=1.0.0 in /usr/local/lib/python3.10/dist-packages (from langsmith) (1.0.0)\n",
            "Requirement already satisfied: anyio in /usr/local/lib/python3.10/dist-packages (from httpx<1,>=0.23.0->langsmith) (3.7.1)\n",
            "Requirement already satisfied: certifi in /usr/local/lib/python3.10/dist-packages (from httpx<1,>=0.23.0->langsmith) (2024.8.30)\n",
            "Requirement already satisfied: httpcore==1.* in /usr/local/lib/python3.10/dist-packages (from httpx<1,>=0.23.0->langsmith) (1.0.7)\n",
            "Requirement already satisfied: idna in /usr/local/lib/python3.10/dist-packages (from httpx<1,>=0.23.0->langsmith) (3.10)\n",
            "Requirement already satisfied: h11<0.15,>=0.13 in /usr/local/lib/python3.10/dist-packages (from httpcore==1.*->httpx<1,>=0.23.0->langsmith) (0.14.0)\n",
            "Requirement already satisfied: PyYAML>=5.3 in /usr/local/lib/python3.10/dist-packages (from langchain-core!=0.3.0,!=0.3.1,!=0.3.10,!=0.3.11,!=0.3.12,!=0.3.13,!=0.3.14,!=0.3.2,!=0.3.3,!=0.3.4,!=0.3.5,!=0.3.6,!=0.3.7,!=0.3.8,!=0.3.9,<0.4.0,>=0.2.43->langgraph) (6.0.2)\n",
            "Requirement already satisfied: jsonpatch<2.0,>=1.33 in /usr/local/lib/python3.10/dist-packages (from langchain-core!=0.3.0,!=0.3.1,!=0.3.10,!=0.3.11,!=0.3.12,!=0.3.13,!=0.3.14,!=0.3.2,!=0.3.3,!=0.3.4,!=0.3.5,!=0.3.6,!=0.3.7,!=0.3.8,!=0.3.9,<0.4.0,>=0.2.43->langgraph) (1.33)\n",
            "Requirement already satisfied: packaging<25,>=23.2 in /usr/local/lib/python3.10/dist-packages (from langchain-core!=0.3.0,!=0.3.1,!=0.3.10,!=0.3.11,!=0.3.12,!=0.3.13,!=0.3.14,!=0.3.2,!=0.3.3,!=0.3.4,!=0.3.5,!=0.3.6,!=0.3.7,!=0.3.8,!=0.3.9,<0.4.0,>=0.2.43->langgraph) (24.2)\n",
            "Requirement already satisfied: tenacity!=8.4.0,<10.0.0,>=8.1.0 in /usr/local/lib/python3.10/dist-packages (from langchain-core!=0.3.0,!=0.3.1,!=0.3.10,!=0.3.11,!=0.3.12,!=0.3.13,!=0.3.14,!=0.3.2,!=0.3.3,!=0.3.4,!=0.3.5,!=0.3.6,!=0.3.7,!=0.3.8,!=0.3.9,<0.4.0,>=0.2.43->langgraph) (9.0.0)\n",
            "Requirement already satisfied: typing-extensions>=4.7 in /usr/local/lib/python3.10/dist-packages (from langchain-core!=0.3.0,!=0.3.1,!=0.3.10,!=0.3.11,!=0.3.12,!=0.3.13,!=0.3.14,!=0.3.2,!=0.3.3,!=0.3.4,!=0.3.5,!=0.3.6,!=0.3.7,!=0.3.8,!=0.3.9,<0.4.0,>=0.2.43->langgraph) (4.12.2)\n",
            "Requirement already satisfied: msgpack<2.0.0,>=1.1.0 in /usr/local/lib/python3.10/dist-packages (from langgraph-checkpoint<3.0.0,>=2.0.4->langgraph) (1.1.0)\n",
            "Requirement already satisfied: annotated-types>=0.6.0 in /usr/local/lib/python3.10/dist-packages (from pydantic<3,>=1->langsmith) (0.7.0)\n",
            "Requirement already satisfied: pydantic-core==2.27.1 in /usr/local/lib/python3.10/dist-packages (from pydantic<3,>=1->langsmith) (2.27.1)\n",
            "Requirement already satisfied: charset-normalizer<4,>=2 in /usr/local/lib/python3.10/dist-packages (from requests<3,>=2->langsmith) (3.4.0)\n",
            "Requirement already satisfied: urllib3<3,>=1.21.1 in /usr/local/lib/python3.10/dist-packages (from requests<3,>=2->langsmith) (2.2.3)\n",
            "Requirement already satisfied: jsonpointer>=1.9 in /usr/local/lib/python3.10/dist-packages (from jsonpatch<2.0,>=1.33->langchain-core!=0.3.0,!=0.3.1,!=0.3.10,!=0.3.11,!=0.3.12,!=0.3.13,!=0.3.14,!=0.3.2,!=0.3.3,!=0.3.4,!=0.3.5,!=0.3.6,!=0.3.7,!=0.3.8,!=0.3.9,<0.4.0,>=0.2.43->langgraph) (3.0.0)\n",
            "Requirement already satisfied: sniffio>=1.1 in /usr/local/lib/python3.10/dist-packages (from anyio->httpx<1,>=0.23.0->langsmith) (1.3.1)\n",
            "Requirement already satisfied: exceptiongroup in /usr/local/lib/python3.10/dist-packages (from anyio->httpx<1,>=0.23.0->langsmith) (1.2.2)\n",
            "Downloading langgraph-0.2.56-py3-none-any.whl (126 kB)\n",
            "\u001b[2K   \u001b[90m━━━━━━━━━━━━━━━━━━━━━━━━━━━━━━━━━━━━━━━━\u001b[0m \u001b[32m126.8/126.8 kB\u001b[0m \u001b[31m4.2 MB/s\u001b[0m eta \u001b[36m0:00:00\u001b[0m\n",
            "\u001b[?25hDownloading langgraph_checkpoint-2.0.8-py3-none-any.whl (35 kB)\n",
            "Downloading langgraph_sdk-0.1.43-py3-none-any.whl (31 kB)\n",
            "Installing collected packages: langgraph-sdk, langgraph-checkpoint, langgraph\n",
            "Successfully installed langgraph-0.2.56 langgraph-checkpoint-2.0.8 langgraph-sdk-0.1.43\n"
          ]
        }
      ],
      "source": [
        "!pip install langgraph langsmith"
      ]
    },
    {
      "cell_type": "code",
      "source": [
        "!pip install langchain langchain-groq langchain_community"
      ],
      "metadata": {
        "colab": {
          "base_uri": "https://localhost:8080/"
        },
        "id": "AAy_yd3BtiZO",
        "outputId": "9655b5ac-279b-4ee0-9b26-8af51fc7e7e6"
      },
      "execution_count": 4,
      "outputs": [
        {
          "output_type": "stream",
          "name": "stdout",
          "text": [
            "Requirement already satisfied: langchain in /usr/local/lib/python3.10/dist-packages (0.3.9)\n",
            "Collecting langchain-groq\n",
            "  Downloading langchain_groq-0.2.1-py3-none-any.whl.metadata (2.9 kB)\n",
            "Collecting langchain_community\n",
            "  Downloading langchain_community-0.3.9-py3-none-any.whl.metadata (2.9 kB)\n",
            "Requirement already satisfied: PyYAML>=5.3 in /usr/local/lib/python3.10/dist-packages (from langchain) (6.0.2)\n",
            "Requirement already satisfied: SQLAlchemy<3,>=1.4 in /usr/local/lib/python3.10/dist-packages (from langchain) (2.0.36)\n",
            "Requirement already satisfied: aiohttp<4.0.0,>=3.8.3 in /usr/local/lib/python3.10/dist-packages (from langchain) (3.11.9)\n",
            "Requirement already satisfied: async-timeout<5.0.0,>=4.0.0 in /usr/local/lib/python3.10/dist-packages (from langchain) (4.0.3)\n",
            "Requirement already satisfied: langchain-core<0.4.0,>=0.3.21 in /usr/local/lib/python3.10/dist-packages (from langchain) (0.3.21)\n",
            "Requirement already satisfied: langchain-text-splitters<0.4.0,>=0.3.0 in /usr/local/lib/python3.10/dist-packages (from langchain) (0.3.2)\n",
            "Requirement already satisfied: langsmith<0.2.0,>=0.1.17 in /usr/local/lib/python3.10/dist-packages (from langchain) (0.1.147)\n",
            "Requirement already satisfied: numpy<2,>=1.22.4 in /usr/local/lib/python3.10/dist-packages (from langchain) (1.26.4)\n",
            "Requirement already satisfied: pydantic<3.0.0,>=2.7.4 in /usr/local/lib/python3.10/dist-packages (from langchain) (2.10.2)\n",
            "Requirement already satisfied: requests<3,>=2 in /usr/local/lib/python3.10/dist-packages (from langchain) (2.32.3)\n",
            "Requirement already satisfied: tenacity!=8.4.0,<10,>=8.1.0 in /usr/local/lib/python3.10/dist-packages (from langchain) (9.0.0)\n",
            "Collecting groq<1,>=0.4.1 (from langchain-groq)\n",
            "  Downloading groq-0.13.0-py3-none-any.whl.metadata (13 kB)\n",
            "Collecting dataclasses-json<0.7,>=0.5.7 (from langchain_community)\n",
            "  Downloading dataclasses_json-0.6.7-py3-none-any.whl.metadata (25 kB)\n",
            "Collecting httpx-sse<0.5.0,>=0.4.0 (from langchain_community)\n",
            "  Downloading httpx_sse-0.4.0-py3-none-any.whl.metadata (9.0 kB)\n",
            "Collecting pydantic-settings<3.0.0,>=2.4.0 (from langchain_community)\n",
            "  Downloading pydantic_settings-2.6.1-py3-none-any.whl.metadata (3.5 kB)\n",
            "Requirement already satisfied: aiohappyeyeballs>=2.3.0 in /usr/local/lib/python3.10/dist-packages (from aiohttp<4.0.0,>=3.8.3->langchain) (2.4.4)\n",
            "Requirement already satisfied: aiosignal>=1.1.2 in /usr/local/lib/python3.10/dist-packages (from aiohttp<4.0.0,>=3.8.3->langchain) (1.3.1)\n",
            "Requirement already satisfied: attrs>=17.3.0 in /usr/local/lib/python3.10/dist-packages (from aiohttp<4.0.0,>=3.8.3->langchain) (24.2.0)\n",
            "Requirement already satisfied: frozenlist>=1.1.1 in /usr/local/lib/python3.10/dist-packages (from aiohttp<4.0.0,>=3.8.3->langchain) (1.5.0)\n",
            "Requirement already satisfied: multidict<7.0,>=4.5 in /usr/local/lib/python3.10/dist-packages (from aiohttp<4.0.0,>=3.8.3->langchain) (6.1.0)\n",
            "Requirement already satisfied: propcache>=0.2.0 in /usr/local/lib/python3.10/dist-packages (from aiohttp<4.0.0,>=3.8.3->langchain) (0.2.1)\n",
            "Requirement already satisfied: yarl<2.0,>=1.17.0 in /usr/local/lib/python3.10/dist-packages (from aiohttp<4.0.0,>=3.8.3->langchain) (1.18.3)\n",
            "Collecting marshmallow<4.0.0,>=3.18.0 (from dataclasses-json<0.7,>=0.5.7->langchain_community)\n",
            "  Downloading marshmallow-3.23.1-py3-none-any.whl.metadata (7.5 kB)\n",
            "Collecting typing-inspect<1,>=0.4.0 (from dataclasses-json<0.7,>=0.5.7->langchain_community)\n",
            "  Downloading typing_inspect-0.9.0-py3-none-any.whl.metadata (1.5 kB)\n",
            "Requirement already satisfied: anyio<5,>=3.5.0 in /usr/local/lib/python3.10/dist-packages (from groq<1,>=0.4.1->langchain-groq) (3.7.1)\n",
            "Requirement already satisfied: distro<2,>=1.7.0 in /usr/local/lib/python3.10/dist-packages (from groq<1,>=0.4.1->langchain-groq) (1.9.0)\n",
            "Requirement already satisfied: httpx<1,>=0.23.0 in /usr/local/lib/python3.10/dist-packages (from groq<1,>=0.4.1->langchain-groq) (0.28.0)\n",
            "Requirement already satisfied: sniffio in /usr/local/lib/python3.10/dist-packages (from groq<1,>=0.4.1->langchain-groq) (1.3.1)\n",
            "Requirement already satisfied: typing-extensions<5,>=4.7 in /usr/local/lib/python3.10/dist-packages (from groq<1,>=0.4.1->langchain-groq) (4.12.2)\n",
            "Requirement already satisfied: jsonpatch<2.0,>=1.33 in /usr/local/lib/python3.10/dist-packages (from langchain-core<0.4.0,>=0.3.21->langchain) (1.33)\n",
            "Requirement already satisfied: packaging<25,>=23.2 in /usr/local/lib/python3.10/dist-packages (from langchain-core<0.4.0,>=0.3.21->langchain) (24.2)\n",
            "Requirement already satisfied: orjson<4.0.0,>=3.9.14 in /usr/local/lib/python3.10/dist-packages (from langsmith<0.2.0,>=0.1.17->langchain) (3.10.12)\n",
            "Requirement already satisfied: requests-toolbelt<2.0.0,>=1.0.0 in /usr/local/lib/python3.10/dist-packages (from langsmith<0.2.0,>=0.1.17->langchain) (1.0.0)\n",
            "Requirement already satisfied: annotated-types>=0.6.0 in /usr/local/lib/python3.10/dist-packages (from pydantic<3.0.0,>=2.7.4->langchain) (0.7.0)\n",
            "Requirement already satisfied: pydantic-core==2.27.1 in /usr/local/lib/python3.10/dist-packages (from pydantic<3.0.0,>=2.7.4->langchain) (2.27.1)\n",
            "Collecting python-dotenv>=0.21.0 (from pydantic-settings<3.0.0,>=2.4.0->langchain_community)\n",
            "  Downloading python_dotenv-1.0.1-py3-none-any.whl.metadata (23 kB)\n",
            "Requirement already satisfied: charset-normalizer<4,>=2 in /usr/local/lib/python3.10/dist-packages (from requests<3,>=2->langchain) (3.4.0)\n",
            "Requirement already satisfied: idna<4,>=2.5 in /usr/local/lib/python3.10/dist-packages (from requests<3,>=2->langchain) (3.10)\n",
            "Requirement already satisfied: urllib3<3,>=1.21.1 in /usr/local/lib/python3.10/dist-packages (from requests<3,>=2->langchain) (2.2.3)\n",
            "Requirement already satisfied: certifi>=2017.4.17 in /usr/local/lib/python3.10/dist-packages (from requests<3,>=2->langchain) (2024.8.30)\n",
            "Requirement already satisfied: greenlet!=0.4.17 in /usr/local/lib/python3.10/dist-packages (from SQLAlchemy<3,>=1.4->langchain) (3.1.1)\n",
            "Requirement already satisfied: exceptiongroup in /usr/local/lib/python3.10/dist-packages (from anyio<5,>=3.5.0->groq<1,>=0.4.1->langchain-groq) (1.2.2)\n",
            "Requirement already satisfied: httpcore==1.* in /usr/local/lib/python3.10/dist-packages (from httpx<1,>=0.23.0->groq<1,>=0.4.1->langchain-groq) (1.0.7)\n",
            "Requirement already satisfied: h11<0.15,>=0.13 in /usr/local/lib/python3.10/dist-packages (from httpcore==1.*->httpx<1,>=0.23.0->groq<1,>=0.4.1->langchain-groq) (0.14.0)\n",
            "Requirement already satisfied: jsonpointer>=1.9 in /usr/local/lib/python3.10/dist-packages (from jsonpatch<2.0,>=1.33->langchain-core<0.4.0,>=0.3.21->langchain) (3.0.0)\n",
            "Collecting mypy-extensions>=0.3.0 (from typing-inspect<1,>=0.4.0->dataclasses-json<0.7,>=0.5.7->langchain_community)\n",
            "  Downloading mypy_extensions-1.0.0-py3-none-any.whl.metadata (1.1 kB)\n",
            "Downloading langchain_groq-0.2.1-py3-none-any.whl (14 kB)\n",
            "Downloading langchain_community-0.3.9-py3-none-any.whl (2.4 MB)\n",
            "\u001b[2K   \u001b[90m━━━━━━━━━━━━━━━━━━━━━━━━━━━━━━━━━━━━━━━━\u001b[0m \u001b[32m2.4/2.4 MB\u001b[0m \u001b[31m29.7 MB/s\u001b[0m eta \u001b[36m0:00:00\u001b[0m\n",
            "\u001b[?25hDownloading dataclasses_json-0.6.7-py3-none-any.whl (28 kB)\n",
            "Downloading groq-0.13.0-py3-none-any.whl (108 kB)\n",
            "\u001b[2K   \u001b[90m━━━━━━━━━━━━━━━━━━━━━━━━━━━━━━━━━━━━━━━━\u001b[0m \u001b[32m108.8/108.8 kB\u001b[0m \u001b[31m7.7 MB/s\u001b[0m eta \u001b[36m0:00:00\u001b[0m\n",
            "\u001b[?25hDownloading httpx_sse-0.4.0-py3-none-any.whl (7.8 kB)\n",
            "Downloading pydantic_settings-2.6.1-py3-none-any.whl (28 kB)\n",
            "Downloading marshmallow-3.23.1-py3-none-any.whl (49 kB)\n",
            "\u001b[2K   \u001b[90m━━━━━━━━━━━━━━━━━━━━━━━━━━━━━━━━━━━━━━━━\u001b[0m \u001b[32m49.5/49.5 kB\u001b[0m \u001b[31m3.4 MB/s\u001b[0m eta \u001b[36m0:00:00\u001b[0m\n",
            "\u001b[?25hDownloading python_dotenv-1.0.1-py3-none-any.whl (19 kB)\n",
            "Downloading typing_inspect-0.9.0-py3-none-any.whl (8.8 kB)\n",
            "Downloading mypy_extensions-1.0.0-py3-none-any.whl (4.7 kB)\n",
            "Installing collected packages: python-dotenv, mypy-extensions, marshmallow, httpx-sse, typing-inspect, pydantic-settings, groq, dataclasses-json, langchain-groq, langchain_community\n",
            "Successfully installed dataclasses-json-0.6.7 groq-0.13.0 httpx-sse-0.4.0 langchain-groq-0.2.1 langchain_community-0.3.9 marshmallow-3.23.1 mypy-extensions-1.0.0 pydantic-settings-2.6.1 python-dotenv-1.0.1 typing-inspect-0.9.0\n"
          ]
        }
      ]
    },
    {
      "cell_type": "code",
      "source": [
        "from google.colab import userdata\n",
        "groq_api_key = userdata.get('GROQ_API_KEY')\n",
        "langsmith_api_key = userdata.get('LANGSMITH_API_KEY')"
      ],
      "metadata": {
        "id": "zU4Tt3P6tq30"
      },
      "execution_count": 6,
      "outputs": []
    },
    {
      "cell_type": "code",
      "source": [
        "import os\n",
        "# os.environ[\"GROQ_API_KEY\"] = groq_api_key\n",
        "os.environ[\"LANGCHAIN_API_KEY\"] = langsmith_api_key\n",
        "os.environ[\"LANGCHAIN_TRACING_V2\"] = \"true\"\n",
        "os.environ[\"LANGCHAIN_PROJECT\"] = \"CurseLangGraph\""
      ],
      "metadata": {
        "id": "Kg-zRoqxuz1x"
      },
      "execution_count": 7,
      "outputs": []
    },
    {
      "cell_type": "code",
      "source": [
        "from langchain_groq import ChatGroq"
      ],
      "metadata": {
        "id": "LMFZFmP7wKyw"
      },
      "execution_count": 95,
      "outputs": []
    },
    {
      "cell_type": "code",
      "source": [
        "llm = ChatGroq(groq_api_key=groq_api_key, model_name= \"Gemma2-9b-It\")\n",
        "llm"
      ],
      "metadata": {
        "colab": {
          "base_uri": "https://localhost:8080/"
        },
        "id": "cDiArcebwRCj",
        "outputId": "c3897f71-88e2-40d8-b3b6-e01db5e902ba"
      },
      "execution_count": 96,
      "outputs": [
        {
          "output_type": "execute_result",
          "data": {
            "text/plain": [
              "ChatGroq(client=<groq.resources.chat.completions.Completions object at 0x78b76f7fba60>, async_client=<groq.resources.chat.completions.AsyncCompletions object at 0x78b76f7f9ff0>, model_name='Gemma2-9b-It', model_kwargs={}, groq_api_key=SecretStr('**********'))"
            ]
          },
          "metadata": {},
          "execution_count": 96
        }
      ]
    },
    {
      "cell_type": "markdown",
      "source": [
        "##Start Building Chatbot Using Langgraph"
      ],
      "metadata": {
        "id": "VONCV5Qlw0EA"
      }
    },
    {
      "cell_type": "code",
      "source": [],
      "metadata": {
        "id": "VGSWwIn0zx9Z"
      },
      "execution_count": 96,
      "outputs": []
    },
    {
      "cell_type": "code",
      "source": [
        "from typing import Annotated\n",
        "from typing_extensions import TypedDict\n",
        "from langgraph.graph import StateGraph,START,END\n",
        "from langgraph.graph.message import add_messages #as we keep on adding messages over here , the state of graph is change, for tracking\n",
        "from langchain.schema import HumanMessage\n"
      ],
      "metadata": {
        "id": "wJkPaQ75wwKZ"
      },
      "execution_count": 97,
      "outputs": []
    },
    {
      "cell_type": "code",
      "source": [
        "class State(TypedDict):\n",
        "  # Messages have type \"list\". The \"add_messages\" functions\n",
        "  # in annotation it should mwkr state updated\n",
        "  # (in this case, it qappend messages to list, rather than overwriting them)\n",
        "  messages: Annotated[list, add_messages]\n",
        "  #  messages: Annotated[list[HumanMessage], add_messages] # Store messages as HumanMessage objects\n",
        "graph_builder = StateGraph(State)\n"
      ],
      "metadata": {
        "id": "m5KwVZg4x2qo"
      },
      "execution_count": 98,
      "outputs": []
    },
    {
      "cell_type": "code",
      "source": [
        "graph_builder"
      ],
      "metadata": {
        "colab": {
          "base_uri": "https://localhost:8080/"
        },
        "id": "Iq8VYCKFzlm_",
        "outputId": "202f491f-6588-4e57-94a4-f68f82a9ba6c"
      },
      "execution_count": 99,
      "outputs": [
        {
          "output_type": "execute_result",
          "data": {
            "text/plain": [
              "<langgraph.graph.state.StateGraph at 0x78b76f7fbc10>"
            ]
          },
          "metadata": {},
          "execution_count": 99
        }
      ]
    },
    {
      "cell_type": "code",
      "source": [
        "def chatbot(state: State):\n",
        "  # message_content = [m.content for m in state['messages']]\n",
        "  # response = llm.invoke(\"\\n\".join(message_content)) # Join messages with newline\n",
        "  # return {\"messages\": [HumanMessage(content=str(response))]}\n",
        "  # messages = state['messages']\n",
        "  # if messages:\n",
        "  #   last_message = message[-1]\n",
        "  # else:\n",
        "  #   last_message = \"\"\n",
        "  return {\"messages\":llm.invoke(state['messages'])}"
      ],
      "metadata": {
        "id": "jMJYiifS2Yk9"
      },
      "execution_count": 100,
      "outputs": []
    },
    {
      "cell_type": "code",
      "source": [
        "graph_builder.add_node(\"chatbot\",chatbot)"
      ],
      "metadata": {
        "colab": {
          "base_uri": "https://localhost:8080/"
        },
        "id": "paMTJF6t24UB",
        "outputId": "5fb413d5-a36c-4395-910f-4f28695ca5b7"
      },
      "execution_count": 101,
      "outputs": [
        {
          "output_type": "execute_result",
          "data": {
            "text/plain": [
              "<langgraph.graph.state.StateGraph at 0x78b76f7fbc10>"
            ]
          },
          "metadata": {},
          "execution_count": 101
        }
      ]
    },
    {
      "cell_type": "code",
      "source": [
        "graph_builder"
      ],
      "metadata": {
        "colab": {
          "base_uri": "https://localhost:8080/"
        },
        "id": "XMKgx1Y62-hv",
        "outputId": "4491b993-0b47-424e-ed92-b62b410fb012"
      },
      "execution_count": 102,
      "outputs": [
        {
          "output_type": "execute_result",
          "data": {
            "text/plain": [
              "<langgraph.graph.state.StateGraph at 0x78b76f7fbc10>"
            ]
          },
          "metadata": {},
          "execution_count": 102
        }
      ]
    },
    {
      "cell_type": "code",
      "source": [
        "graph_builder.add_edge(START,\"chatbot\")\n",
        "graph_builder.add_edge(\"chatbot\",END)"
      ],
      "metadata": {
        "colab": {
          "base_uri": "https://localhost:8080/"
        },
        "id": "37NyXh3u3A3C",
        "outputId": "e4fbe66c-603b-4580-f753-d6824d1eb31e"
      },
      "execution_count": 103,
      "outputs": [
        {
          "output_type": "execute_result",
          "data": {
            "text/plain": [
              "<langgraph.graph.state.StateGraph at 0x78b76f7fbc10>"
            ]
          },
          "metadata": {},
          "execution_count": 103
        }
      ]
    },
    {
      "cell_type": "code",
      "source": [
        "graph = graph_builder.compile()"
      ],
      "metadata": {
        "id": "yTYYrskn3XP3"
      },
      "execution_count": 104,
      "outputs": []
    },
    {
      "cell_type": "code",
      "source": [
        "from IPython.display import Image, display\n",
        "try:\n",
        "  display(Image(graph.get_graph().draw_mermaid_png()))\n",
        "except Exception as e:\n",
        "  print(e)\n",
        "  pass"
      ],
      "metadata": {
        "colab": {
          "base_uri": "https://localhost:8080/",
          "height": 251
        },
        "id": "R7SSMoz93b5p",
        "outputId": "0d0ec36b-795b-4542-e7db-246598f33ab1"
      },
      "execution_count": 105,
      "outputs": [
        {
          "output_type": "display_data",
          "data": {
            "image/png": "[encoded data removed]",
            "text/plain": [
              "<IPython.core.display.Image object>"
            ]
          },
          "metadata": {}
        }
      ]
    },
    {
      "cell_type": "code",
      "source": [
        "while True:\n",
        "  user_input = input(\"User: \")\n",
        "  if user_input.lower() in [\"quit\",\"q\"]:\n",
        "    print(\"Good Bye\")\n",
        "    break\n",
        "  for event in graph.stream({\"messages\":(\"user\",user_input)}):\n",
        "    print(event.values())\n",
        "    for value in event.values():\n",
        "      print(value['messages'])\n",
        "      print(\"Assistant:\", value[\"messages\"].content)\n"
      ],
      "metadata": {
        "colab": {
          "base_uri": "https://localhost:8080/"
        },
        "id": "-fR75c-P3u0X",
        "outputId": "4f716131-720f-4f74-e67b-16baea1af581"
      },
      "execution_count": 106,
      "outputs": [
        {
          "output_type": "stream",
          "name": "stdout",
          "text": [
            "User: Hello\n",
            "dict_values([{'messages': AIMessage(content='Hello! 👋\\n\\nHow can I help you today? 😊\\n', additional_kwargs={}, response_metadata={'token_usage': {'completion_tokens': 15, 'prompt_tokens': 10, 'total_tokens': 25, 'completion_time': 0.027272727, 'prompt_time': 3.6e-07, 'queue_time': 0.015261167, 'total_time': 0.027273087}, 'model_name': 'Gemma2-9b-It', 'system_fingerprint': 'fp_10c08bf97d', 'finish_reason': 'stop', 'logprobs': None}, id='run-916db61d-043f-4787-b268-5fe74fe9c12d-0', usage_metadata={'input_tokens': 10, 'output_tokens': 15, 'total_tokens': 25})}])\n",
            "content='Hello! 👋\\n\\nHow can I help you today? 😊\\n' additional_kwargs={} response_metadata={'token_usage': {'completion_tokens': 15, 'prompt_tokens': 10, 'total_tokens': 25, 'completion_time': 0.027272727, 'prompt_time': 3.6e-07, 'queue_time': 0.015261167, 'total_time': 0.027273087}, 'model_name': 'Gemma2-9b-It', 'system_fingerprint': 'fp_10c08bf97d', 'finish_reason': 'stop', 'logprobs': None} id='run-916db61d-043f-4787-b268-5fe74fe9c12d-0' usage_metadata={'input_tokens': 10, 'output_tokens': 15, 'total_tokens': 25}\n",
            "Assistant: Hello! 👋\n",
            "\n",
            "How can I help you today? 😊\n",
            "\n",
            "User: very good nice respnse\n",
            "dict_values([{'messages': AIMessage(content=\"I'm glad you think so! \\n\\nIs there anything else I can help you with? 😊  \\n\\n\", additional_kwargs={}, response_metadata={'token_usage': {'completion_tokens': 26, 'prompt_tokens': 14, 'total_tokens': 40, 'completion_time': 0.047272727, 'prompt_time': 7.9919e-05, 'queue_time': 0.014888488, 'total_time': 0.047352646}, 'model_name': 'Gemma2-9b-It', 'system_fingerprint': 'fp_10c08bf97d', 'finish_reason': 'stop', 'logprobs': None}, id='run-017d003e-cd7a-4b10-9379-7e2e5b812fec-0', usage_metadata={'input_tokens': 14, 'output_tokens': 26, 'total_tokens': 40})}])\n",
            "content=\"I'm glad you think so! \\n\\nIs there anything else I can help you with? 😊  \\n\\n\" additional_kwargs={} response_metadata={'token_usage': {'completion_tokens': 26, 'prompt_tokens': 14, 'total_tokens': 40, 'completion_time': 0.047272727, 'prompt_time': 7.9919e-05, 'queue_time': 0.014888488, 'total_time': 0.047352646}, 'model_name': 'Gemma2-9b-It', 'system_fingerprint': 'fp_10c08bf97d', 'finish_reason': 'stop', 'logprobs': None} id='run-017d003e-cd7a-4b10-9379-7e2e5b812fec-0' usage_metadata={'input_tokens': 14, 'output_tokens': 26, 'total_tokens': 40}\n",
            "Assistant: I'm glad you think so! \n",
            "\n",
            "Is there anything else I can help you with? 😊  \n",
            "\n",
            "\n",
            "User: I want to know about tajmahal\n",
            "dict_values([{'messages': AIMessage(content='## The Taj Mahal: A Monument to Love and Loss\\n\\nThe Taj Mahal is an ivory-white marble mausoleum on the south bank of the Yamuna river in the Indian city of Agra. \\n\\n**Here are some key facts about this iconic landmark:**\\n\\n* **Built by:** Mughal emperor Shah Jahan in memory of his third wife Mumtaz Mahal, who died in 1631 giving birth to their 14th child.\\n* **Completed:**  Around 1653, taking approximately 22 years to build.\\n* **Architectural Style:** A blend of Indian, Persian, Ottoman Turkish, and Islamic architectural styles.\\n* **Materials:** Primarily white marble inlaid with precious and semi-precious stones like lapis lazuli, jade, and turquoise.\\n* **Famous for:** Its stunning symmetry, intricate details, and breathtaking beauty.\\n\\n**Beyond the Basics:**\\n\\n* **Symbolism:** The Taj Mahal is widely considered a symbol of eternal love and the power of grief. It showcases the Mughal emperor\\'s devotion to his beloved wife.\\n* **UNESCO World Heritage Site:** Designated as a UNESCO World Heritage Site in 1983.\\n* **\"Jewel of Muslim Art in India\":**  Often referred to as the \"Jewel of Muslim Art in India\" due to its exquisite craftsmanship and artistry.\\n* **Tourist Destination:** One of the most popular tourist destinations in the world, attracting millions of visitors each year.\\n\\n**Interesting Facts:**\\n\\n* The Taj Mahal was originally intended to be built entirely underground, as it was thought to be a more appropriate resting place for a queen.\\n* Shah Jahan planned to build a black marble mausoleum for himself opposite the Taj Mahal, but this plan was never realized.\\n* The white marble of the Taj Mahal gradually changes color throughout the day, reflecting the changing light.\\n* The four minarets surrounding the mausoleum are slightly tilted outwards, so that if the structure ever collapses, it will fall away from the main tomb.\\n\\n**Visiting the Taj Mahal:**\\n\\n* **Best time to visit:** October to March (winter) for pleasant weather.\\n* **Opening hours:**  Sunrise to sunset.\\n* **Ticket prices:** Varies depending on nationality.\\n\\n\\nThe Taj Mahal is a truly awe-inspiring monument that continues to captivate the hearts and minds of people from all over the world. \\n\\n\\nI hope this information is helpful!\\n', additional_kwargs={}, response_metadata={'token_usage': {'completion_tokens': 501, 'prompt_tokens': 16, 'total_tokens': 517, 'completion_time': 0.910909091, 'prompt_time': 0.000531047, 'queue_time': 0.014767963, 'total_time': 0.911440138}, 'model_name': 'Gemma2-9b-It', 'system_fingerprint': 'fp_10c08bf97d', 'finish_reason': 'stop', 'logprobs': None}, id='run-9f64f4dd-3ee1-4633-9b15-c3e3047209af-0', usage_metadata={'input_tokens': 16, 'output_tokens': 501, 'total_tokens': 517})}])\n",
            "content='## The Taj Mahal: A Monument to Love and Loss\\n\\nThe Taj Mahal is an ivory-white marble mausoleum on the south bank of the Yamuna river in the Indian city of Agra. \\n\\n**Here are some key facts about this iconic landmark:**\\n\\n* **Built by:** Mughal emperor Shah Jahan in memory of his third wife Mumtaz Mahal, who died in 1631 giving birth to their 14th child.\\n* **Completed:**  Around 1653, taking approximately 22 years to build.\\n* **Architectural Style:** A blend of Indian, Persian, Ottoman Turkish, and Islamic architectural styles.\\n* **Materials:** Primarily white marble inlaid with precious and semi-precious stones like lapis lazuli, jade, and turquoise.\\n* **Famous for:** Its stunning symmetry, intricate details, and breathtaking beauty.\\n\\n**Beyond the Basics:**\\n\\n* **Symbolism:** The Taj Mahal is widely considered a symbol of eternal love and the power of grief. It showcases the Mughal emperor\\'s devotion to his beloved wife.\\n* **UNESCO World Heritage Site:** Designated as a UNESCO World Heritage Site in 1983.\\n* **\"Jewel of Muslim Art in India\":**  Often referred to as the \"Jewel of Muslim Art in India\" due to its exquisite craftsmanship and artistry.\\n* **Tourist Destination:** One of the most popular tourist destinations in the world, attracting millions of visitors each year.\\n\\n**Interesting Facts:**\\n\\n* The Taj Mahal was originally intended to be built entirely underground, as it was thought to be a more appropriate resting place for a queen.\\n* Shah Jahan planned to build a black marble mausoleum for himself opposite the Taj Mahal, but this plan was never realized.\\n* The white marble of the Taj Mahal gradually changes color throughout the day, reflecting the changing light.\\n* The four minarets surrounding the mausoleum are slightly tilted outwards, so that if the structure ever collapses, it will fall away from the main tomb.\\n\\n**Visiting the Taj Mahal:**\\n\\n* **Best time to visit:** October to March (winter) for pleasant weather.\\n* **Opening hours:**  Sunrise to sunset.\\n* **Ticket prices:** Varies depending on nationality.\\n\\n\\nThe Taj Mahal is a truly awe-inspiring monument that continues to captivate the hearts and minds of people from all over the world. \\n\\n\\nI hope this information is helpful!\\n' additional_kwargs={} response_metadata={'token_usage': {'completion_tokens': 501, 'prompt_tokens': 16, 'total_tokens': 517, 'completion_time': 0.910909091, 'prompt_time': 0.000531047, 'queue_time': 0.014767963, 'total_time': 0.911440138}, 'model_name': 'Gemma2-9b-It', 'system_fingerprint': 'fp_10c08bf97d', 'finish_reason': 'stop', 'logprobs': None} id='run-9f64f4dd-3ee1-4633-9b15-c3e3047209af-0' usage_metadata={'input_tokens': 16, 'output_tokens': 501, 'total_tokens': 517}\n",
            "Assistant: ## The Taj Mahal: A Monument to Love and Loss\n",
            "\n",
            "The Taj Mahal is an ivory-white marble mausoleum on the south bank of the Yamuna river in the Indian city of Agra. \n",
            "\n",
            "**Here are some key facts about this iconic landmark:**\n",
            "\n",
            "* **Built by:** Mughal emperor Shah Jahan in memory of his third wife Mumtaz Mahal, who died in 1631 giving birth to their 14th child.\n",
            "* **Completed:**  Around 1653, taking approximately 22 years to build.\n",
            "* **Architectural Style:** A blend of Indian, Persian, Ottoman Turkish, and Islamic architectural styles.\n",
            "* **Materials:** Primarily white marble inlaid with precious and semi-precious stones like lapis lazuli, jade, and turquoise.\n",
            "* **Famous for:** Its stunning symmetry, intricate details, and breathtaking beauty.\n",
            "\n",
            "**Beyond the Basics:**\n",
            "\n",
            "* **Symbolism:** The Taj Mahal is widely considered a symbol of eternal love and the power of grief. It showcases the Mughal emperor's devotion to his beloved wife.\n",
            "* **UNESCO World Heritage Site:** Designated as a UNESCO World Heritage Site in 1983.\n",
            "* **\"Jewel of Muslim Art in India\":**  Often referred to as the \"Jewel of Muslim Art in India\" due to its exquisite craftsmanship and artistry.\n",
            "* **Tourist Destination:** One of the most popular tourist destinations in the world, attracting millions of visitors each year.\n",
            "\n",
            "**Interesting Facts:**\n",
            "\n",
            "* The Taj Mahal was originally intended to be built entirely underground, as it was thought to be a more appropriate resting place for a queen.\n",
            "* Shah Jahan planned to build a black marble mausoleum for himself opposite the Taj Mahal, but this plan was never realized.\n",
            "* The white marble of the Taj Mahal gradually changes color throughout the day, reflecting the changing light.\n",
            "* The four minarets surrounding the mausoleum are slightly tilted outwards, so that if the structure ever collapses, it will fall away from the main tomb.\n",
            "\n",
            "**Visiting the Taj Mahal:**\n",
            "\n",
            "* **Best time to visit:** October to March (winter) for pleasant weather.\n",
            "* **Opening hours:**  Sunrise to sunset.\n",
            "* **Ticket prices:** Varies depending on nationality.\n",
            "\n",
            "\n",
            "The Taj Mahal is a truly awe-inspiring monument that continues to captivate the hearts and minds of people from all over the world. \n",
            "\n",
            "\n",
            "I hope this information is helpful!\n",
            "\n",
            "User: ok good progress\n",
            "dict_values([{'messages': AIMessage(content=\"I'm glad to hear you think so! \\n\\nIs there anything else I can help you with? 😄\\n\", additional_kwargs={}, response_metadata={'token_usage': {'completion_tokens': 26, 'prompt_tokens': 12, 'total_tokens': 38, 'completion_time': 0.047272727, 'prompt_time': 0.000248629, 'queue_time': 0.014780238, 'total_time': 0.047521356}, 'model_name': 'Gemma2-9b-It', 'system_fingerprint': 'fp_10c08bf97d', 'finish_reason': 'stop', 'logprobs': None}, id='run-143aa6be-6f16-43ae-b1df-c9cf289c53b9-0', usage_metadata={'input_tokens': 12, 'output_tokens': 26, 'total_tokens': 38})}])\n",
            "content=\"I'm glad to hear you think so! \\n\\nIs there anything else I can help you with? 😄\\n\" additional_kwargs={} response_metadata={'token_usage': {'completion_tokens': 26, 'prompt_tokens': 12, 'total_tokens': 38, 'completion_time': 0.047272727, 'prompt_time': 0.000248629, 'queue_time': 0.014780238, 'total_time': 0.047521356}, 'model_name': 'Gemma2-9b-It', 'system_fingerprint': 'fp_10c08bf97d', 'finish_reason': 'stop', 'logprobs': None} id='run-143aa6be-6f16-43ae-b1df-c9cf289c53b9-0' usage_metadata={'input_tokens': 12, 'output_tokens': 26, 'total_tokens': 38}\n",
            "Assistant: I'm glad to hear you think so! \n",
            "\n",
            "Is there anything else I can help you with? 😄\n",
            "\n",
            "User: what question ask you first\n",
            "dict_values([{'messages': AIMessage(content=\"As an AI, I don't have personal preferences or feelings.\\n\\nIf you'd like to get to know me better, you could ask:\\n\\n* **What are you capable of doing?**\\n* **How were you trained?**\\n* **What are some examples of your work?**\\n* **What are your limitations?**\\n\\nI'm here to help and provide information to the best of my ability.\\n\", additional_kwargs={}, response_metadata={'token_usage': {'completion_tokens': 92, 'prompt_tokens': 14, 'total_tokens': 106, 'completion_time': 0.167272727, 'prompt_time': 8.017e-05, 'queue_time': 0.015255107, 'total_time': 0.167352897}, 'model_name': 'Gemma2-9b-It', 'system_fingerprint': 'fp_10c08bf97d', 'finish_reason': 'stop', 'logprobs': None}, id='run-407b9357-b26d-4282-856d-286e6cc0bd12-0', usage_metadata={'input_tokens': 14, 'output_tokens': 92, 'total_tokens': 106})}])\n",
            "content=\"As an AI, I don't have personal preferences or feelings.\\n\\nIf you'd like to get to know me better, you could ask:\\n\\n* **What are you capable of doing?**\\n* **How were you trained?**\\n* **What are some examples of your work?**\\n* **What are your limitations?**\\n\\nI'm here to help and provide information to the best of my ability.\\n\" additional_kwargs={} response_metadata={'token_usage': {'completion_tokens': 92, 'prompt_tokens': 14, 'total_tokens': 106, 'completion_time': 0.167272727, 'prompt_time': 8.017e-05, 'queue_time': 0.015255107, 'total_time': 0.167352897}, 'model_name': 'Gemma2-9b-It', 'system_fingerprint': 'fp_10c08bf97d', 'finish_reason': 'stop', 'logprobs': None} id='run-407b9357-b26d-4282-856d-286e6cc0bd12-0' usage_metadata={'input_tokens': 14, 'output_tokens': 92, 'total_tokens': 106}\n",
            "Assistant: As an AI, I don't have personal preferences or feelings.\n",
            "\n",
            "If you'd like to get to know me better, you could ask:\n",
            "\n",
            "* **What are you capable of doing?**\n",
            "* **How were you trained?**\n",
            "* **What are some examples of your work?**\n",
            "* **What are your limitations?**\n",
            "\n",
            "I'm here to help and provide information to the best of my ability.\n",
            "\n",
            "User: quit\n",
            "Good Bye\n"
          ]
        }
      ]
    },
    {
      "cell_type": "code",
      "source": [],
      "metadata": {
        "id": "MttK0dkj4_33"
      },
      "execution_count": null,
      "outputs": []
    }
  ]
}